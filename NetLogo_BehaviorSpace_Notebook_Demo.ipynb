{
  "cells": [
    {
      "attachments": {},
      "cell_type": "markdown",
      "metadata": {
        "id": "1_eDyhHKXTWC"
      },
      "source": [
        "# Running NetLogo BehaviorSpace Experiments within a Jupyter Notebook\n",
        "\n",
        "This notebook demonstrates how to define a BehaviorSpace experiment by generating an XML document and passing it to NetLogo's headless mode through the `--setup-file` argument.\n",
        "\n",
        "This approach may be useful for a couple of cases:\n",
        "\n",
        "* You are planning to publish reproducible supplemental materials for a publication.\n",
        "* You are working on a new model and you would like to generate some preliminary data for exploratory analysis.\n",
        "\n",
        "If you would like to read more about Behaviorspace, visit:\n",
        "\n",
        "* https://ccl.northwestern.edu/netlogo/docs/behaviorspace.html \n",
        "\n",
        "If you would like to review the XML setup file format, visit: \n",
        "\n",
        "* https://ccl.northwestern.edu/netlogo/docs/behaviorspace.html#advanced-usage\n",
        "\n",
        "If you have any questions or suggestions, send me an email at umitaslan@u.northwestern.edu."
      ]
    },
    {
      "attachments": {},
      "cell_type": "markdown",
      "metadata": {
        "id": "RyBHypJMcQXl"
      },
      "source": [
        "## 0. Import libraries, download the model, & download NetLogo\n",
        "\n",
        "This step may not be needed for local installations. You can simply copy the NetLogo folder and your model within the same folder of this notebook, and make sure the values of the `MODEL_NAME` and `NETLOGO_FOLDER` variables match your local files. \n",
        "\n",
        "Google Colab removes files within the session storage once the user disconnects, so it is necessary to download the files from scratch every time we run this notebook. It is also a nice demo, and may be necessary if you are sharing your work with those who are familiar with Python but not NetLogo.\n",
        "\n",
        "Here is what the code below does:\n",
        "\n",
        "* Check if the model file exists. If not, download it from the link specified with the `MODEL_LINK` variable.\n",
        "* Check if a NetLogo installation specified in the `NETLOGO_FOLDER` variable exists. If not, download it from http://ccl.northwestern.edu/netlogo/ and unpack within the folder.\n",
        "\n",
        "_Note: This script downloads Linux 64-bit version of NetLogo, which should run just fine on any MacOS and Linux machine as the `netlogo-headless.sh` script runs NetLogo as a cross-platform Java application. However, it will not run on Windows machines because the Windows package comes with a `*.bat` script. If you are planning to run this script on your Windows machine, I recommend you to run it through the Windows Subsystem for Linux._"
      ]
    },
    {
      "cell_type": "code",
      "execution_count": 1,
      "metadata": {
        "id": "TADUUKZmXy_U"
      },
      "outputs": [],
      "source": [
        "from pathlib import Path\n",
        "import urllib.request\n",
        "from dataclasses import dataclass, field\n",
        "from typing import Dict, Tuple\n",
        "import xml.etree.ElementTree as et\n",
        "import pandas as pd"
      ]
    },
    {
      "cell_type": "code",
      "execution_count": null,
      "metadata": {
        "id": "uO3v54NwYdV6"
      },
      "outputs": [],
      "source": [
        "MODEL_NAME = 'fire'\n",
        "NETLOGO_FOLDER = 'netlogo'"
      ]
    },
    {
      "cell_type": "code",
      "execution_count": 18,
      "metadata": {
        "colab": {
          "base_uri": "https://localhost:8080/"
        },
        "id": "W6hnl9B4aOpa",
        "outputId": "b2438790-1572-44e5-b971-ce5d2131b2da"
      },
      "outputs": [
        {
          "name": "stdout",
          "output_type": "stream",
          "text": [
            "👍🏼 NetLogo found.\n",
            "👍🏼 Model file found.\n"
          ]
        }
      ],
      "source": [
        "## Check if NetLogo is installed, if not download and extract it\n",
        "\n",
        "if not Path(NETLOGO_FOLDER, 'netlogo-headless.sh').is_file():\n",
        "  print(\"Could not find NetLogo headless, I'll attempt to download it now.\")\n",
        "\n",
        "  urllib.request.urlretrieve('https://ccl.northwestern.edu/netlogo/7.0.0/NetLogo-7.0.0-64.tgz', 'netlogo.tgz')\n",
        "\n",
        "  !tar -xf netlogo.tgz\n",
        "  !mv NetLogo\\ 7.0.0 {NETLOGO_FOLDER}\n",
        "  !rm netlogo.tgz\n",
        "\n",
        "  if Path(NETLOGO_FOLDER, 'netlogo-headless.sh').is_file():\n",
        "    print(\"✅ Done! If you did not see any errors above, it all went well.\")\n",
        "  else:\n",
        "    print(\"😵 Something went wrong, could not download NetLogo!\")\n",
        "else:\n",
        "  print(\"👍🏼 NetLogo found.\")\n",
        "\n",
        "\n",
        "## Check if the Fire model file is present, if not download it\n",
        "\n",
        "if not Path(f'{MODEL_NAME}.nlogox').is_file():\n",
        "  print(\"Could not find the model file. I'll attempt to download it now.\")\n",
        "  urllib.request.urlretrieve('http://ccl.northwestern.edu/netlogo/models/models/Sample%20Models/Earth%20Science/Fire.nlogox', f'{MODEL_NAME}.nlogox')\n",
        "\n",
        "  if Path(f'{MODEL_NAME}.nlogox').is_file():\n",
        "    print(\"✅ Successfully downloaded the model file.\")\n",
        "  else:\n",
        "    print(\"😵 Something went wrong, could not download the model file.\")\n",
        "\n",
        "else:\n",
        "  print(\"👍🏼 Model file found.\")"
      ]
    },
    {
      "cell_type": "markdown",
      "metadata": {
        "id": "ZfQTbcoycwTc"
      },
      "source": [
        "## 1. Define a class to map python objects to an XML setup file & run experiments\n",
        "\n",
        "The `BehaviorSpaceExperiment` class allows defining experiments within the notebook that can later be parsed to XML by the following `run_behaviorspace_experiment` function.\n",
        "\n",
        "* `name`: The name of the experiment as `string`.\n",
        "  * Default: `\"my experiment\"`\n",
        "* `repetitions`: Number of runs as `integer`.\n",
        "  * Default: `1`\n",
        "* `steps`: Number of ticks each repetition should run as `integer`.\n",
        "  * Default: `1000`\n",
        "* `every_step`: Whether the experiment should record the provided metrics after each tick, either `true` or `false`.\n",
        "  * Default: `false`\n",
        "* `setup`: NetLogo code that should be executed at the beginning of each repetition as `string`. \n",
        "  * Default: `\"setup\"`\n",
        "* `go`: NetLogo code that should be executed at each tick of a repetition as `string`. \n",
        "  * Default: `\"go\"`\n",
        "* `final`: NetLogo code that should be executed at the end of each repetition as `string`.\n",
        "  * Default: `\"\"`\n",
        "* `metrics`: Variables that should be recorded in the output table as columns as a `tuple` of `string` values. \n",
        "  * Default: `(\"count turtles\", \"count patches\")`\n",
        "* `enumerated_values`: Model parameters passed as single values as a `dictionary` of `string:list(string)` pairs.\n",
        "  * Default: _empty_\n",
        "  * Example: `{\"density\":[\"10\", \"40\", \"60\"], \"burned-trees\":[\"100\"]}`\n",
        "* `stepped_values`: Model parameters passed as ranges as a `dictionary` of `string:tuple(start, step, end)` pairs. Note that even integer values should be added as string.\n",
        "  * Default: _empty_\n",
        "  * Example: `{\"density\":(10, 1, 90)}`\n",
        "\n",
        "\n"
      ]
    },
    {
      "cell_type": "code",
      "execution_count": 4,
      "metadata": {
        "id": "b7qWLKWFbW2U"
      },
      "outputs": [],
      "source": [
        "@dataclass\n",
        "class BehaviorSpaceExperiment:\n",
        "\n",
        "    name:str = \"my experiment\"\n",
        "    repetitions:int = 1\n",
        "\n",
        "    steps:int = 1000\n",
        "    every_step:bool = False\n",
        "\n",
        "    setup:str = \"setup\"\n",
        "    go:str = \"go\"\n",
        "    exit:str = \"\"\n",
        "    final:str = \"\"\n",
        "    \n",
        "    metrics:tuple = (\"count turtles\", \"count patches\")\n",
        "\n",
        "    enumerated_values:dict[str, list] = field(default_factory=dict)  \n",
        "    stepped_values:dict[str,Tuple] = field(default_factory=dict)  \n",
        "\n",
        "    \n",
        "    @property\n",
        "    def XML_PATH(self):\n",
        "        return Path(f'output', 'xml') / f\"{self.name}.xml\"\n",
        "    \n",
        "    @property\n",
        "    def CSV_PATH(self):\n",
        "        return Path(f'output', 'csv') / f\"{self.name}.csv\"\n",
        "\n",
        "    def run(self):\n",
        "        root = et.Element(\"experiments\")\n",
        "\n",
        "        xml = et.SubElement(root, \"experiment\",\n",
        "                            name=self.name,\n",
        "                            repetitions=str(self.repetitions),\n",
        "                            runMetricsEveryStep=str(self.every_step).lower())\n",
        "\n",
        "        # note: Behaviorspace expects elements in the following order: \n",
        "        #       setup?,go?,final?,timeLimit?,exitCondition?,metric*,(steppedValueSet|enumeratedValueSet)*\n",
        "\n",
        "        et.SubElement(xml, \"setup\").text = self.setup\n",
        "        et.SubElement(xml, \"go\").text = self.go\n",
        "\n",
        "        if len(self.final) > 0:\n",
        "            et.SubElement(xml, \"final\").text = self.final\n",
        "\n",
        "        et.SubElement(xml, \"timeLimit\", steps=str(self.steps))\n",
        "\n",
        "        if len(self.exit) > 0:\n",
        "            et.SubElement(xml, \"exitCondition\").text = self.exit\n",
        "\n",
        "        for m in self.metrics:\n",
        "            et.SubElement(xml, \"metric\").text = m\n",
        "\n",
        "        for ev in self.enumerated_values:\n",
        "            sub_el = et.SubElement(xml, \"enumeratedValueSet\", variable=ev)\n",
        "            for v in self.enumerated_values[ev]:\n",
        "                et.SubElement(sub_el, \"value\", value=v)\n",
        "\n",
        "        for sv in self.stepped_values:\n",
        "            sub_el = et.SubElement(xml, \n",
        "                                   \"steppedValueSet\", \n",
        "                                   variable=sv, \n",
        "                                   first=str(self.stepped_values[sv][0]), \n",
        "                                   step=str(self.stepped_values[sv][1]), \n",
        "                                   last=str(self.stepped_values[sv][2]))\n",
        "\n",
        "        tree = et.ElementTree(root)\n",
        "\n",
        "        Path(f'output', 'xml').mkdir(parents=True, exist_ok=True)\n",
        "        Path(f'output', 'csv').mkdir(parents=True, exist_ok=True)\n",
        "\n",
        "        if self.XML_PATH.is_file(): self.XML_PATH.unlink(missing_ok=True)\n",
        "        if self.CSV_PATH.is_file(): self.CSV_PATH.unlink(missing_ok=True)\n",
        "\n",
        "        with open(self.XML_PATH, \"wb\") as f:\n",
        "            f.write('<?xml version=\"1.0\" encoding=\"UTF-8\"?><!DOCTYPE experiments SYSTEM \"behaviorspace.dtd\">'.encode(\"utf-8\"))\n",
        "            tree.write(f, encoding=\"utf-8\")\n",
        "\n",
        "        print(\"Firing up NetLogo.\")\n",
        "        !./{NETLOGO_FOLDER}/netlogo-headless.sh --model {MODEL_NAME}.nlogox --setup-file {self.XML_PATH} --table {self.CSV_PATH}\n",
        "\n",
        "        return \"ALL DONE.\"\n"
      ]
    },
    {
      "cell_type": "markdown",
      "metadata": {
        "id": "ffCECLdIroPl"
      },
      "source": [
        "## 3. Create an experiment\n"
      ]
    },
    {
      "cell_type": "code",
      "execution_count": 5,
      "metadata": {
        "id": "nXbdAQG6cvwv"
      },
      "outputs": [],
      "source": [
        "# Define the experiment\n",
        "\n",
        "e_01 = BehaviorSpaceExperiment()\n",
        "e_01.name = \"fire-experiment\"\n",
        "e_01.repetitions = 3\n",
        "e_01.every_step = False\n",
        "e_01.steps = 1000\n",
        "\n",
        "e_01.metrics = ('burned-trees', 'initial-trees')\n",
        "\n",
        "e_01.stepped_values = {\"density\":(0, 1, 100)}\n",
        "\n",
        "e_01.setup = 'setup'\n",
        "e_01.go = 'go'\n",
        "e_01.final = 'if behaviorspace-run-number mod 30 = 0 [ show (word ((behaviorspace-run-number / 300) * 100) \"% finished.\")]'"
      ]
    },
    {
      "cell_type": "markdown",
      "metadata": {
        "id": "tLZLgUyKROUi"
      },
      "source": [
        "### 3.1. Run the experiment"
      ]
    },
    {
      "cell_type": "code",
      "execution_count": 6,
      "metadata": {
        "colab": {
          "base_uri": "https://localhost:8080/",
          "height": 278
        },
        "id": "jDed3WsLcvup",
        "outputId": "b45de15a-0803-4586-8465-92252d9f657c"
      },
      "outputs": [
        {
          "name": "stdout",
          "output_type": "stream",
          "text": [
            "Firing up NetLogo.\n",
            "JAVA_HOME undefined, using java from path. For control over exact java version, set JAVA_HOME\n",
            "observer: \"10% finished.\"\n",
            "observer: \"20% finished.\"\n",
            "observer: \"30% finished.\"\n",
            "observer: \"40% finished.\"\n",
            "observer: \"50% finished.\"\n",
            "observer: \"60% finished.\"\n",
            "observer: \"70% finished.\"\n",
            "observer: \"80% finished.\"\n",
            "observer: \"90% finished.\"\n",
            "observer: \"100% finished.\"\n"
          ]
        },
        {
          "data": {
            "text/plain": [
              "'ALL DONE.'"
            ]
          },
          "execution_count": 6,
          "metadata": {},
          "output_type": "execute_result"
        }
      ],
      "source": [
        "e_01.run()"
      ]
    },
    {
      "cell_type": "markdown",
      "metadata": {
        "id": "roks8gw6zLzD"
      },
      "source": [
        "## 4. Load the output & analyze with python libraries\n",
        "\n",
        "Once we have a csv file, we can import it using the `pandas` library (or other python libraries) and then carry out manipulation, analysis, and visualization tasks.\n",
        "\n",
        "Notice the `skiprows=6` parameter below. We need to use this parameter because the first 6 rows of the table output includes a hearder section. \n",
        "\n",
        "Visit the following page to learn more about BehaviorSpace output formats:\n",
        "\n",
        "* https://ccl.northwestern.edu/netlogo/docs/behaviorspace.html#run-options-formats .\n",
        "\n",
        "This notebook uses `pandas` for data manipulation and analysis. Here's a good `pandas` tutorial for beginners:\n",
        "\n",
        "* https://realpython.com/pandas-python-explore-dataset/#visualizing-your-pandas-dataframe"
      ]
    },
    {
      "cell_type": "markdown",
      "metadata": {
        "id": "MzmzG-H7SFTv"
      },
      "source": [
        "### 4.1. Load the spreadsheet"
      ]
    },
    {
      "cell_type": "code",
      "execution_count": 7,
      "metadata": {
        "id": "VdmqzCRgukRq"
      },
      "outputs": [],
      "source": [
        "pd.set_option(\"display.precision\", 2)\n",
        "df = pd.read_csv(e_01.CSV_PATH, skiprows=6)"
      ]
    },
    {
      "cell_type": "markdown",
      "metadata": {
        "id": "P9gZDH6n0Voi"
      },
      "source": [
        "#### Example: Sample some rows"
      ]
    },
    {
      "cell_type": "code",
      "execution_count": 8,
      "metadata": {
        "colab": {
          "base_uri": "https://localhost:8080/",
          "height": 206
        },
        "id": "jbpGG4_4vdDH",
        "outputId": "0e83f00e-21b5-4b58-f422-2f2d8b44494d"
      },
      "outputs": [
        {
          "data": {
            "text/html": [
              "<div>\n",
              "<style scoped>\n",
              "    .dataframe tbody tr th:only-of-type {\n",
              "        vertical-align: middle;\n",
              "    }\n",
              "\n",
              "    .dataframe tbody tr th {\n",
              "        vertical-align: top;\n",
              "    }\n",
              "\n",
              "    .dataframe thead th {\n",
              "        text-align: right;\n",
              "    }\n",
              "</style>\n",
              "<table border=\"1\" class=\"dataframe\">\n",
              "  <thead>\n",
              "    <tr style=\"text-align: right;\">\n",
              "      <th></th>\n",
              "      <th>[run number]</th>\n",
              "      <th>density</th>\n",
              "      <th>[step]</th>\n",
              "      <th>burned-trees</th>\n",
              "      <th>initial-trees</th>\n",
              "    </tr>\n",
              "  </thead>\n",
              "  <tbody>\n",
              "    <tr>\n",
              "      <th>154</th>\n",
              "      <td>155</td>\n",
              "      <td>51</td>\n",
              "      <td>59</td>\n",
              "      <td>970</td>\n",
              "      <td>31899</td>\n",
              "    </tr>\n",
              "    <tr>\n",
              "      <th>172</th>\n",
              "      <td>176</td>\n",
              "      <td>58</td>\n",
              "      <td>78</td>\n",
              "      <td>2292</td>\n",
              "      <td>36404</td>\n",
              "    </tr>\n",
              "    <tr>\n",
              "      <th>198</th>\n",
              "      <td>199</td>\n",
              "      <td>66</td>\n",
              "      <td>383</td>\n",
              "      <td>39912</td>\n",
              "      <td>41532</td>\n",
              "    </tr>\n",
              "    <tr>\n",
              "      <th>93</th>\n",
              "      <td>94</td>\n",
              "      <td>31</td>\n",
              "      <td>21</td>\n",
              "      <td>148</td>\n",
              "      <td>19455</td>\n",
              "    </tr>\n",
              "    <tr>\n",
              "      <th>130</th>\n",
              "      <td>123</td>\n",
              "      <td>40</td>\n",
              "      <td>38</td>\n",
              "      <td>319</td>\n",
              "      <td>25057</td>\n",
              "    </tr>\n",
              "  </tbody>\n",
              "</table>\n",
              "</div>"
            ],
            "text/plain": [
              "     [run number]  density  [step]  burned-trees  initial-trees\n",
              "154           155       51      59           970          31899\n",
              "172           176       58      78          2292          36404\n",
              "198           199       66     383         39912          41532\n",
              "93             94       31      21           148          19455\n",
              "130           123       40      38           319          25057"
            ]
          },
          "execution_count": 8,
          "metadata": {},
          "output_type": "execute_result"
        }
      ],
      "source": [
        "df.sample(5)"
      ]
    },
    {
      "cell_type": "markdown",
      "metadata": {
        "id": "Xtm3QkTh0atn"
      },
      "source": [
        "#### Example: Generate a new column "
      ]
    },
    {
      "cell_type": "code",
      "execution_count": 9,
      "metadata": {
        "id": "dlK7-cAGzn3L"
      },
      "outputs": [],
      "source": [
        "df['percent-burned'] = (df['burned-trees'] / df['initial-trees']) * 100"
      ]
    },
    {
      "cell_type": "code",
      "execution_count": 10,
      "metadata": {
        "colab": {
          "base_uri": "https://localhost:8080/",
          "height": 206
        },
        "id": "RxgSJfHVzxdA",
        "outputId": "b421ba09-133f-4f09-d01e-d8fb9b927e2a"
      },
      "outputs": [
        {
          "data": {
            "text/html": [
              "<div>\n",
              "<style scoped>\n",
              "    .dataframe tbody tr th:only-of-type {\n",
              "        vertical-align: middle;\n",
              "    }\n",
              "\n",
              "    .dataframe tbody tr th {\n",
              "        vertical-align: top;\n",
              "    }\n",
              "\n",
              "    .dataframe thead th {\n",
              "        text-align: right;\n",
              "    }\n",
              "</style>\n",
              "<table border=\"1\" class=\"dataframe\">\n",
              "  <thead>\n",
              "    <tr style=\"text-align: right;\">\n",
              "      <th></th>\n",
              "      <th>[run number]</th>\n",
              "      <th>density</th>\n",
              "      <th>[step]</th>\n",
              "      <th>burned-trees</th>\n",
              "      <th>initial-trees</th>\n",
              "      <th>percent-burned</th>\n",
              "    </tr>\n",
              "  </thead>\n",
              "  <tbody>\n",
              "    <tr>\n",
              "      <th>22</th>\n",
              "      <td>23</td>\n",
              "      <td>7</td>\n",
              "      <td>14</td>\n",
              "      <td>16</td>\n",
              "      <td>4301</td>\n",
              "      <td>0.37</td>\n",
              "    </tr>\n",
              "    <tr>\n",
              "      <th>152</th>\n",
              "      <td>154</td>\n",
              "      <td>51</td>\n",
              "      <td>31</td>\n",
              "      <td>559</td>\n",
              "      <td>32081</td>\n",
              "      <td>1.74</td>\n",
              "    </tr>\n",
              "    <tr>\n",
              "      <th>15</th>\n",
              "      <td>14</td>\n",
              "      <td>4</td>\n",
              "      <td>13</td>\n",
              "      <td>7</td>\n",
              "      <td>2636</td>\n",
              "      <td>0.27</td>\n",
              "    </tr>\n",
              "    <tr>\n",
              "      <th>87</th>\n",
              "      <td>90</td>\n",
              "      <td>29</td>\n",
              "      <td>19</td>\n",
              "      <td>152</td>\n",
              "      <td>18199</td>\n",
              "      <td>0.84</td>\n",
              "    </tr>\n",
              "    <tr>\n",
              "      <th>57</th>\n",
              "      <td>61</td>\n",
              "      <td>20</td>\n",
              "      <td>17</td>\n",
              "      <td>69</td>\n",
              "      <td>12741</td>\n",
              "      <td>0.54</td>\n",
              "    </tr>\n",
              "  </tbody>\n",
              "</table>\n",
              "</div>"
            ],
            "text/plain": [
              "     [run number]  density  [step]  burned-trees  initial-trees  \\\n",
              "22             23        7      14            16           4301   \n",
              "152           154       51      31           559          32081   \n",
              "15             14        4      13             7           2636   \n",
              "87             90       29      19           152          18199   \n",
              "57             61       20      17            69          12741   \n",
              "\n",
              "     percent-burned  \n",
              "22             0.37  \n",
              "152            1.74  \n",
              "15             0.27  \n",
              "87             0.84  \n",
              "57             0.54  "
            ]
          },
          "execution_count": 10,
          "metadata": {},
          "output_type": "execute_result"
        }
      ],
      "source": [
        "df.sample(5)"
      ]
    },
    {
      "cell_type": "markdown",
      "metadata": {
        "id": "IMMgF1TN1eIp"
      },
      "source": [
        "#### Example: Descriptive statistics"
      ]
    },
    {
      "cell_type": "code",
      "execution_count": 11,
      "metadata": {
        "colab": {
          "base_uri": "https://localhost:8080/",
          "height": 300
        },
        "id": "AJiP8LlT1fk2",
        "outputId": "2d11e6f9-5620-4b2d-9e0d-849d9d1c2603"
      },
      "outputs": [
        {
          "data": {
            "text/html": [
              "<div>\n",
              "<style scoped>\n",
              "    .dataframe tbody tr th:only-of-type {\n",
              "        vertical-align: middle;\n",
              "    }\n",
              "\n",
              "    .dataframe tbody tr th {\n",
              "        vertical-align: top;\n",
              "    }\n",
              "\n",
              "    .dataframe thead th {\n",
              "        text-align: right;\n",
              "    }\n",
              "</style>\n",
              "<table border=\"1\" class=\"dataframe\">\n",
              "  <thead>\n",
              "    <tr style=\"text-align: right;\">\n",
              "      <th></th>\n",
              "      <th>[run number]</th>\n",
              "      <th>density</th>\n",
              "      <th>[step]</th>\n",
              "      <th>burned-trees</th>\n",
              "      <th>initial-trees</th>\n",
              "      <th>percent-burned</th>\n",
              "    </tr>\n",
              "  </thead>\n",
              "  <tbody>\n",
              "    <tr>\n",
              "      <th>count</th>\n",
              "      <td>303.00</td>\n",
              "      <td>303.0</td>\n",
              "      <td>303.00</td>\n",
              "      <td>303.00</td>\n",
              "      <td>303.00</td>\n",
              "      <td>300.00</td>\n",
              "    </tr>\n",
              "    <tr>\n",
              "      <th>mean</th>\n",
              "      <td>152.00</td>\n",
              "      <td>50.0</td>\n",
              "      <td>163.50</td>\n",
              "      <td>20397.83</td>\n",
              "      <td>31381.48</td>\n",
              "      <td>41.33</td>\n",
              "    </tr>\n",
              "    <tr>\n",
              "      <th>std</th>\n",
              "      <td>87.61</td>\n",
              "      <td>29.2</td>\n",
              "      <td>169.31</td>\n",
              "      <td>24571.16</td>\n",
              "      <td>18326.02</td>\n",
              "      <td>47.19</td>\n",
              "    </tr>\n",
              "    <tr>\n",
              "      <th>min</th>\n",
              "      <td>1.00</td>\n",
              "      <td>0.0</td>\n",
              "      <td>12.00</td>\n",
              "      <td>0.00</td>\n",
              "      <td>0.00</td>\n",
              "      <td>0.11</td>\n",
              "    </tr>\n",
              "    <tr>\n",
              "      <th>25%</th>\n",
              "      <td>76.50</td>\n",
              "      <td>25.0</td>\n",
              "      <td>18.50</td>\n",
              "      <td>97.00</td>\n",
              "      <td>15633.00</td>\n",
              "      <td>0.66</td>\n",
              "    </tr>\n",
              "    <tr>\n",
              "      <th>50%</th>\n",
              "      <td>152.00</td>\n",
              "      <td>50.0</td>\n",
              "      <td>48.00</td>\n",
              "      <td>656.00</td>\n",
              "      <td>31484.00</td>\n",
              "      <td>2.42</td>\n",
              "    </tr>\n",
              "    <tr>\n",
              "      <th>75%</th>\n",
              "      <td>227.50</td>\n",
              "      <td>75.0</td>\n",
              "      <td>298.50</td>\n",
              "      <td>46758.00</td>\n",
              "      <td>47103.00</td>\n",
              "      <td>99.37</td>\n",
              "    </tr>\n",
              "    <tr>\n",
              "      <th>max</th>\n",
              "      <td>303.00</td>\n",
              "      <td>100.0</td>\n",
              "      <td>871.00</td>\n",
              "      <td>62750.00</td>\n",
              "      <td>62750.00</td>\n",
              "      <td>100.00</td>\n",
              "    </tr>\n",
              "  </tbody>\n",
              "</table>\n",
              "</div>"
            ],
            "text/plain": [
              "       [run number]  density  [step]  burned-trees  initial-trees  \\\n",
              "count        303.00    303.0  303.00        303.00         303.00   \n",
              "mean         152.00     50.0  163.50      20397.83       31381.48   \n",
              "std           87.61     29.2  169.31      24571.16       18326.02   \n",
              "min            1.00      0.0   12.00          0.00           0.00   \n",
              "25%           76.50     25.0   18.50         97.00       15633.00   \n",
              "50%          152.00     50.0   48.00        656.00       31484.00   \n",
              "75%          227.50     75.0  298.50      46758.00       47103.00   \n",
              "max          303.00    100.0  871.00      62750.00       62750.00   \n",
              "\n",
              "       percent-burned  \n",
              "count          300.00  \n",
              "mean            41.33  \n",
              "std             47.19  \n",
              "min              0.11  \n",
              "25%              0.66  \n",
              "50%              2.42  \n",
              "75%             99.37  \n",
              "max            100.00  "
            ]
          },
          "execution_count": 11,
          "metadata": {},
          "output_type": "execute_result"
        }
      ],
      "source": [
        "df.describe()"
      ]
    },
    {
      "cell_type": "markdown",
      "metadata": {
        "id": "WKaYbc0-1nEY"
      },
      "source": [
        "#### Example: Visualize the output"
      ]
    },
    {
      "cell_type": "code",
      "execution_count": 14,
      "metadata": {
        "colab": {
          "base_uri": "https://localhost:8080/",
          "height": 466
        },
        "id": "18x5NO2-zxuv",
        "outputId": "77f9ff41-b3c0-44fc-94c0-99a197470d33"
      },
      "outputs": [
        {
          "data": {
            "text/plain": [
              "<Axes: xlabel='density', ylabel='percent-burned'>"
            ]
          },
          "execution_count": 14,
          "metadata": {},
          "output_type": "execute_result"
        },
        {
          "data": {
            "image/png": "[encoded data removed]",
            "text/plain": [
              "<Figure size 640x480 with 1 Axes>"
            ]
          },
          "metadata": {},
          "output_type": "display_data"
        }
      ],
      "source": [
        "df.plot.scatter(x='density', y='percent-burned', color='red')"
      ]
    },
    {
      "cell_type": "code",
      "execution_count": 15,
      "metadata": {
        "colab": {
          "base_uri": "https://localhost:8080/",
          "height": 447
        },
        "id": "w2PqyZgL0KO4",
        "outputId": "08691ee6-4a32-433f-8052-4a537184efdd"
      },
      "outputs": [
        {
          "data": {
            "text/plain": [
              "<Axes: >"
            ]
          },
          "execution_count": 15,
          "metadata": {},
          "output_type": "execute_result"
        },
        {
          "data": {
            "image/png": "[encoded data removed]",
            "text/plain": [
              "<Figure size 640x480 with 1 Axes>"
            ]
          },
          "metadata": {},
          "output_type": "display_data"
        }
      ],
      "source": [
        "df['percent-burned'].hist(bins=50)"
      ]
    },
    {
      "cell_type": "code",
      "execution_count": null,
      "metadata": {},
      "outputs": [],
      "source": []
    }
  ],
  "metadata": {
    "colab": {
      "authorship_tag": "ABX9TyN891YIzxMpcVEYxgTgVhuC",
      "include_colab_link": true,
      "provenance": []
    },
    "kernelspec": {
      "display_name": "behaviorsearch",
      "language": "python",
      "name": "python3"
    },
    "language_info": {
      "codemirror_mode": {
        "name": "ipython",
        "version": 3
      },
      "file_extension": ".py",
      "mimetype": "text/x-python",
      "name": "python",
      "nbconvert_exporter": "python",
      "pygments_lexer": "ipython3",
      "version": "3.11.13"
    }
  },
  "nbformat": 4,
  "nbformat_minor": 0
}
