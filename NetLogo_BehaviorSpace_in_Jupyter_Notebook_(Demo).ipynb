{
  "cells": [
    {
      "cell_type": "markdown",
      "metadata": {
        "colab_type": "text",
        "id": "view-in-github"
      },
      "source": [
        "<a href=\"https://colab.research.google.com/github/umit1010/jupyter-notebook-netlogo-behaviorspace/blob/main/NetLogo_BehaviorSpace_in_Jupyter_Notebook_(Demo).ipynb\" target=\"_parent\"><img src=\"https://colab.research.google.com/assets/colab-badge.svg\" alt=\"Open In Colab\"/></a>"
      ]
    },
    {
      "cell_type": "markdown",
      "metadata": {
        "id": "1_eDyhHKXTWC"
      },
      "source": [
        "# Running NetLogo BehaviorSpace Experiments within a Jupyter Notebook\n",
        "`Umit @ CCL All @ 04/03/2023`\n",
        "\n",
        "This notebook demonstrates how to define a BehaviorSpace experiment by generating an XML document and passing it to NetLogo's headless mode through the `--setup-file` argument.\n",
        "\n",
        "This approach may be useful for a couple of cases:\n",
        "\n",
        "* You are planning to publish supplemental materials for a publication.\n",
        "* You are working on a new model and you would like to generate some preliminary data for exploratory analysis.\n",
        "\n",
        "If you would like to read more about Behaviorspace, visit:\n",
        "\n",
        "* https://ccl.northwestern.edu/netlogo/docs/behaviorspace.html \n",
        "\n",
        "If you would like to review the XML setup file format, visit: \n",
        "\n",
        "* https://ccl.northwestern.edu/netlogo/docs/behaviorspace.html#advanced-usage"
      ]
    },
    {
      "cell_type": "markdown",
      "metadata": {
        "id": "RyBHypJMcQXl"
      },
      "source": [
        "## 0. Import libraries, download the model, & NetLogo\n",
        "\n",
        "This step may not be needed for local installations. You can simply copy the NetLogo folder and your model within the same folder of this notebook and update the `MODEL_NAME` and `NETLOGO_FOLDER` variables. \n",
        "\n",
        "However, Google Colab removes files within the session storage once the user disconnects, so it is necessary to download the files from scratch every time we run this notebook. It is also a nice demo, and may be necessary if you are sharing your work with those who are familiar with python but not NetLogo.\n",
        "\n",
        "Here is what the code below does:\n",
        "\n",
        "* Check if the model file exists. If not, download it from the provided link.\n",
        "* Check if a NetLogo installation exists. If not, download it from the internet.\n",
        "\n",
        "_Note: This script downloads Linux 64-bit version of NetLogo, which should run just fine on any MacOS and Linux machine as NetLogo is a Java application. However, it will not run on Windows machines. If you are planning to run it on your Windows machine, you should use the Windows Subsystem for Linux._"
      ]
    },
    {
      "cell_type": "code",
      "execution_count": 1,
      "metadata": {
        "id": "TADUUKZmXy_U"
      },
      "outputs": [],
      "source": [
        "from pathlib import Path\n",
        "import shutil\n",
        "import urllib.request\n",
        "import pandas as pd\n",
        "import xml.etree.ElementTree as et\n",
        "from dataclasses import dataclass, field\n",
        "from typing import Dict, Tuple"
      ]
    },
    {
      "cell_type": "code",
      "execution_count": null,
      "metadata": {
        "id": "uO3v54NwYdV6"
      },
      "outputs": [],
      "source": [
        "MODEL_NAME = 'fire'\n",
        "MODEL_LINK = 'http://ccl.northwestern.edu/netlogo/models/models/Sample%20Models/Earth%20Science/Fire.nlogo'\n",
        "NETLOGO_FOLDER = 'netlogo'"
      ]
    },
    {
      "cell_type": "code",
      "execution_count": null,
      "metadata": {
        "colab": {
          "base_uri": "https://localhost:8080/"
        },
        "id": "W6hnl9B4aOpa",
        "outputId": "b2438790-1572-44e5-b971-ce5d2131b2da"
      },
      "outputs": [
        {
          "name": "stdout",
          "output_type": "stream",
          "text": [
            "Could not find the model file. I'll attempt to download it now.\n",
            "Could not find NetLogo headless, I'll attempt to download it now.\n",
            "Done! If you did not see any errors above, it all went well.\n"
          ]
        }
      ],
      "source": [
        "if not Path(f'{MODEL_NAME}.nlogo').is_file():\n",
        "  print(\"Could not find the model file. I'll attempt to download it now.\")\n",
        "  urllib.request.urlretrieve(MODEL_LINK, f'{MODEL_NAME}.nlogo')\n",
        "else:\n",
        "  print(\"Model file found.\")\n",
        "\n",
        "if not Path(NETLOGO_FOLDER, 'netlogo-headless.sh').is_file():\n",
        "  print(\"Could not find NetLogo headless, I'll attempt to download it now.\")\n",
        "  \n",
        "  urllib.request.urlretrieve('https://ccl.northwestern.edu/netlogo/6.3.0/NetLogo-6.3.0-64.tgz', 'netlogo.tgz')\n",
        "  !tar -xf netlogo.tgz\n",
        "  !mv NetLogo\\ 6.3.0 {NETLOGO_FOLDER}\n",
        "\n",
        "  print(\"Done! If you did not see any errors above, it all went well.\")\n",
        "else:\n",
        "  print(\"NetLogo found.\")"
      ]
    },
    {
      "cell_type": "markdown",
      "metadata": {
        "id": "ZfQTbcoycwTc"
      },
      "source": [
        "## 1. Define a class to map python objects to an XML setup file & run experiments\n",
        "\n",
        "The `BehaviorSpaceExperiment` class allows defining experiments within the notebook that can later be parsed to XML by the following `run_behaviorspace_experiment` function.\n",
        "\n",
        "* `name`: The name of the experiment as `string`.\n",
        "  * Default: `\"my experiment\"`\n",
        "* `repetitions`: Number of runs as `integer`.\n",
        "  * Default: `1`\n",
        "* `steps`: Number of ticks each repetition should run as `integer`.\n",
        "  * Default: `1000`\n",
        "* `every_step`: Whether the experiment should record the provided metrics after each tick, either `true` or `false`.\n",
        "  * Default: `false`\n",
        "* `setup`: NetLogo code that should be executed at the beginning of each repetition as `string`. \n",
        "  * Default: `\"setup\"`\n",
        "* `go`: NetLogo code that should be executed at each tick of a repetition as `string`. \n",
        "  * Default: `\"go\"`\n",
        "* `final`: NetLogo code that should be executed at the end of each repetition as `string`.\n",
        "  * Default: `\"\"`\n",
        "* `metrics`: Variables that should be recorded in the output table as columns as a `tuple` of `string` values. \n",
        "  * Default: `(\"count turtles\", \"count patches\")`\n",
        "* `enumerated_values`: Model parameters passed as single values as a `dictionary` of `string:list(string)` pairs.\n",
        "  * Default: _empty_\n",
        "  * Example: `{\"density\":[\"10\", \"40\", \"60\"], \"burned-trees\":[\"100\"]}`\n",
        "* `stepped_values`: Model parameters passed as ranges as a `dictionary` of `string:tuple(start, step, end)` pairs. Note that even integer values should be added as string.\n",
        "  * Default: _empty_\n",
        "  * Example: `{\"density\":(10, 1, 90)}`\n",
        "\n",
        "\n"
      ]
    },
    {
      "cell_type": "code",
      "execution_count": null,
      "metadata": {
        "id": "b7qWLKWFbW2U"
      },
      "outputs": [],
      "source": [
        "@dataclass\n",
        "class BehaviorSpaceExperiment:\n",
        "\n",
        "    name:str = \"my experiment\"\n",
        "    repetitions:int = 1\n",
        "\n",
        "    steps:int = 1000\n",
        "    every_step:bool = False\n",
        "\n",
        "    setup:str = \"setup\"\n",
        "    go:str = \"go\"\n",
        "    exit:str = \"\"\n",
        "    final:str = \"\"\n",
        "    \n",
        "    metrics:tuple = (\"count turtles\", \"count patches\")\n",
        "\n",
        "    enumerated_values:dict[str, list] = field(default_factory=dict)  \n",
        "    stepped_values:dict[str,Tuple] = field(default_factory=dict)  \n",
        "\n",
        "    \n",
        "    @property\n",
        "    def XML_PATH(self):\n",
        "        return Path(f'output', 'xml') / f\"{self.name}.xml\"\n",
        "    \n",
        "    @property\n",
        "    def CSV_PATH(self):\n",
        "        return Path(f'output', 'csv') / f\"{self.name}.csv\"\n",
        "\n",
        "    def run(self):\n",
        "        root = et.Element(\"experiments\")\n",
        "\n",
        "        xml = et.SubElement(root, \"experiment\",\n",
        "                            name=self.name,\n",
        "                            repetitions=str(self.repetitions),\n",
        "                            runMetricsEveryStep=str(self.every_step).lower())\n",
        "\n",
        "        et.SubElement(xml, \"timeLimit\", steps=str(self.steps))\n",
        "\n",
        "        et.SubElement(xml, \"setup\").text = self.setup\n",
        "        et.SubElement(xml, \"go\").text = self.go\n",
        "\n",
        "        if len(self.exit) > 0:\n",
        "            et.SubElement(xml, \"exit\").text = self.exit\n",
        "\n",
        "        if len(self.final) > 0: et.SubElement(xml, \"final\").text = self.final\n",
        "\n",
        "        for m in self.metrics:\n",
        "            et.SubElement(xml, \"metric\").text = m\n",
        "\n",
        "        for ev in self.enumerated_values:\n",
        "            sub_el = et.SubElement(xml, \"enumeratedValueSet\", variable=ev)\n",
        "            for v in self.enumerated_values[ev]:\n",
        "                et.SubElement(sub_el, \"value\", value=v)\n",
        "\n",
        "        for sv in self.stepped_values:\n",
        "            sub_el = et.SubElement(xml, \n",
        "                                   \"steppedValueSet\", \n",
        "                                   variable=sv, \n",
        "                                   first=str(self.stepped_values[sv][0]), \n",
        "                                   step=str(self.stepped_values[sv][1]), \n",
        "                                   last=str(self.stepped_values[sv][2]))\n",
        "\n",
        "        tree = et.ElementTree(root)\n",
        "\n",
        "        Path(f'output', 'xml').mkdir(parents=True, exist_ok=True)\n",
        "        Path(f'output', 'csv').mkdir(parents=True, exist_ok=True)\n",
        "\n",
        "        if self.XML_PATH.is_file(): self.XML_PATH.unlink(missing_ok=True)\n",
        "        if self.CSV_PATH.is_file(): self.CSV_PATH.unlink(missing_ok=True)\n",
        "\n",
        "        with open(self.XML_PATH, \"wb\") as f:\n",
        "            f.write('<?xml version=\"1.0\" encoding=\"UTF-8\"?><!DOCTYPE experiments SYSTEM \"behaviorspace.dtd\">'.encode(\"utf-8\"))\n",
        "            tree.write(f, encoding=\"utf-8\")\n",
        "\n",
        "        print(\"Firing up NetLogo.\")\n",
        "        !./{NETLOGO_FOLDER}/netlogo-headless.sh --model {MODEL_NAME}.nlogo --setup-file {self.XML_PATH} --table {self.CSV_PATH}\n",
        "\n",
        "        return \"ALL DONE.\"\n"
      ]
    },
    {
      "cell_type": "markdown",
      "metadata": {
        "id": "ffCECLdIroPl"
      },
      "source": [
        "## 3. Create an experiment\n"
      ]
    },
    {
      "cell_type": "code",
      "execution_count": null,
      "metadata": {
        "id": "nXbdAQG6cvwv"
      },
      "outputs": [],
      "source": [
        "# Define the experiment\n",
        "\n",
        "e_01 = BehaviorSpaceExperiment()\n",
        "e_01.name = \"fire-experiment\"\n",
        "e_01.repetitions = 3\n",
        "e_01.every_step = False\n",
        "e_01.steps = 1000\n",
        "\n",
        "e_01.metrics = ('burned-trees', 'initial-trees')\n",
        "\n",
        "# skipping e_01.enumerated_values for the fire model\n",
        "\n",
        "e_01.stepped_values = {\"density\":(0, 1, 100)}\n",
        "\n",
        "e_01.setup = 'setup'\n",
        "e_01.go = 'go'\n",
        "e_01.final = 'if behaviorspace-run-number mod 30 = 0 [ show (word ((behaviorspace-run-number / 300) * 100) \"% finished.\")]'"
      ]
    },
    {
      "cell_type": "markdown",
      "metadata": {
        "id": "tLZLgUyKROUi"
      },
      "source": [
        "### 3.1. Run the experiment"
      ]
    },
    {
      "cell_type": "code",
      "execution_count": null,
      "metadata": {
        "colab": {
          "base_uri": "https://localhost:8080/",
          "height": 278
        },
        "id": "jDed3WsLcvup",
        "outputId": "b45de15a-0803-4586-8465-92252d9f657c"
      },
      "outputs": [
        {
          "name": "stdout",
          "output_type": "stream",
          "text": [
            "Firing up NetLogo.\n",
            "JAVA_HOME undefined, using java from path. For control over exact java version, set JAVA_HOME\n",
            "Apr 01, 2023 7:22:14 PM java.util.prefs.FileSystemPreferences$1 run\n",
            "INFO: Created user preferences directory.\n",
            "observer: \"10% finished.\"\n",
            "observer: \"20% finished.\"\n",
            "observer: \"30% finished.\"\n",
            "observer: \"40% finished.\"\n",
            "observer: \"50% finished.\"\n",
            "observer: \"60% finished.\"\n",
            "observer: \"70% finished.\"\n",
            "observer: \"80% finished.\"\n",
            "observer: \"90% finished.\"\n",
            "observer: \"100% finished.\"\n"
          ]
        },
        {
          "data": {
            "application/vnd.google.colaboratory.intrinsic+json": {
              "type": "string"
            },
            "text/plain": [
              "'ALL DONE.'"
            ]
          },
          "execution_count": 7,
          "metadata": {},
          "output_type": "execute_result"
        }
      ],
      "source": [
        "e_01.run()"
      ]
    },
    {
      "cell_type": "markdown",
      "metadata": {
        "id": "roks8gw6zLzD"
      },
      "source": [
        "## 4. Load the output & analyze with python libraries\n",
        "\n",
        "Once we have a csv file, we can import it using the `pandas` library (or other python libraries) and then carry out manipulation, analysis, and visualization tasks.\n",
        "\n",
        "Notice the `skiprows=6` parameter below. We need to use this parameter because the first 6 rows of the table output includes a hearder section. \n",
        "\n",
        "Visit the following page to learn more about BehaviorSpace output formats:\n",
        "\n",
        "* https://ccl.northwestern.edu/netlogo/docs/behaviorspace.html#run-options-formats .\n",
        "\n",
        "This notebook uses `pandas` for data manipulation and analysis. Here's a good `pandas` tutorial for beginners:\n",
        "\n",
        "* https://realpython.com/pandas-python-explore-dataset/#visualizing-your-pandas-dataframe"
      ]
    },
    {
      "cell_type": "markdown",
      "metadata": {
        "id": "MzmzG-H7SFTv"
      },
      "source": [
        "### 4.1. Load the spreadsheet"
      ]
    },
    {
      "cell_type": "code",
      "execution_count": null,
      "metadata": {
        "id": "VdmqzCRgukRq"
      },
      "outputs": [],
      "source": [
        "pd.set_option(\"display.precision\", 2)\n",
        "df = pd.read_csv(e_01.CSV_PATH, skiprows=6)"
      ]
    },
    {
      "cell_type": "markdown",
      "metadata": {
        "id": "P9gZDH6n0Voi"
      },
      "source": [
        "#### Example: Sample some rows"
      ]
    },
    {
      "cell_type": "code",
      "execution_count": null,
      "metadata": {
        "colab": {
          "base_uri": "https://localhost:8080/",
          "height": 206
        },
        "id": "jbpGG4_4vdDH",
        "outputId": "0e83f00e-21b5-4b58-f422-2f2d8b44494d"
      },
      "outputs": [
        {
          "data": {
            "text/html": [
              "\n",
              "  <div id=\"df-cda85622-0256-4f7b-ba8f-4c3b8d178f69\">\n",
              "    <div class=\"colab-df-container\">\n",
              "      <div>\n",
              "<style scoped>\n",
              "    .dataframe tbody tr th:only-of-type {\n",
              "        vertical-align: middle;\n",
              "    }\n",
              "\n",
              "    .dataframe tbody tr th {\n",
              "        vertical-align: top;\n",
              "    }\n",
              "\n",
              "    .dataframe thead th {\n",
              "        text-align: right;\n",
              "    }\n",
              "</style>\n",
              "<table border=\"1\" class=\"dataframe\">\n",
              "  <thead>\n",
              "    <tr style=\"text-align: right;\">\n",
              "      <th></th>\n",
              "      <th>[run number]</th>\n",
              "      <th>density</th>\n",
              "      <th>[step]</th>\n",
              "      <th>burned-trees</th>\n",
              "      <th>initial-trees</th>\n",
              "    </tr>\n",
              "  </thead>\n",
              "  <tbody>\n",
              "    <tr>\n",
              "      <th>66</th>\n",
              "      <td>67</td>\n",
              "      <td>22</td>\n",
              "      <td>19</td>\n",
              "      <td>65</td>\n",
              "      <td>13917</td>\n",
              "    </tr>\n",
              "    <tr>\n",
              "      <th>284</th>\n",
              "      <td>285</td>\n",
              "      <td>94</td>\n",
              "      <td>274</td>\n",
              "      <td>59106</td>\n",
              "      <td>59109</td>\n",
              "    </tr>\n",
              "    <tr>\n",
              "      <th>236</th>\n",
              "      <td>237</td>\n",
              "      <td>78</td>\n",
              "      <td>314</td>\n",
              "      <td>48599</td>\n",
              "      <td>48758</td>\n",
              "    </tr>\n",
              "    <tr>\n",
              "      <th>140</th>\n",
              "      <td>141</td>\n",
              "      <td>46</td>\n",
              "      <td>40</td>\n",
              "      <td>374</td>\n",
              "      <td>28841</td>\n",
              "    </tr>\n",
              "    <tr>\n",
              "      <th>216</th>\n",
              "      <td>217</td>\n",
              "      <td>72</td>\n",
              "      <td>343</td>\n",
              "      <td>44542</td>\n",
              "      <td>45065</td>\n",
              "    </tr>\n",
              "  </tbody>\n",
              "</table>\n",
              "</div>\n",
              "      <button class=\"colab-df-convert\" onclick=\"convertToInteractive('df-cda85622-0256-4f7b-ba8f-4c3b8d178f69')\"\n",
              "              title=\"Convert this dataframe to an interactive table.\"\n",
              "              style=\"display:none;\">\n",
              "        \n",
              "  <svg xmlns=\"http://www.w3.org/2000/svg\" height=\"24px\"viewBox=\"0 0 24 24\"\n",
              "       width=\"24px\">\n",
              "    <path d=\"M0 0h24v24H0V0z\" fill=\"none\"/>\n",
              "    <path d=\"M18.56 5.44l.94 2.06.94-2.06 2.06-.94-2.06-.94-.94-2.06-.94 2.06-2.06.94zm-11 1L8.5 8.5l.94-2.06 2.06-.94-2.06-.94L8.5 2.5l-.94 2.06-2.06.94zm10 10l.94 2.06.94-2.06 2.06-.94-2.06-.94-.94-2.06-.94 2.06-2.06.94z\"/><path d=\"M17.41 7.96l-1.37-1.37c-.4-.4-.92-.59-1.43-.59-.52 0-1.04.2-1.43.59L10.3 9.45l-7.72 7.72c-.78.78-.78 2.05 0 2.83L4 21.41c.39.39.9.59 1.41.59.51 0 1.02-.2 1.41-.59l7.78-7.78 2.81-2.81c.8-.78.8-2.07 0-2.86zM5.41 20L4 18.59l7.72-7.72 1.47 1.35L5.41 20z\"/>\n",
              "  </svg>\n",
              "      </button>\n",
              "      \n",
              "  <style>\n",
              "    .colab-df-container {\n",
              "      display:flex;\n",
              "      flex-wrap:wrap;\n",
              "      gap: 12px;\n",
              "    }\n",
              "\n",
              "    .colab-df-convert {\n",
              "      background-color: #E8F0FE;\n",
              "      border: none;\n",
              "      border-radius: 50%;\n",
              "      cursor: pointer;\n",
              "      display: none;\n",
              "      fill: #1967D2;\n",
              "      height: 32px;\n",
              "      padding: 0 0 0 0;\n",
              "      width: 32px;\n",
              "    }\n",
              "\n",
              "    .colab-df-convert:hover {\n",
              "      background-color: #E2EBFA;\n",
              "      box-shadow: 0px 1px 2px rgba(60, 64, 67, 0.3), 0px 1px 3px 1px rgba(60, 64, 67, 0.15);\n",
              "      fill: #174EA6;\n",
              "    }\n",
              "\n",
              "    [theme=dark] .colab-df-convert {\n",
              "      background-color: #3B4455;\n",
              "      fill: #D2E3FC;\n",
              "    }\n",
              "\n",
              "    [theme=dark] .colab-df-convert:hover {\n",
              "      background-color: #434B5C;\n",
              "      box-shadow: 0px 1px 3px 1px rgba(0, 0, 0, 0.15);\n",
              "      filter: drop-shadow(0px 1px 2px rgba(0, 0, 0, 0.3));\n",
              "      fill: #FFFFFF;\n",
              "    }\n",
              "  </style>\n",
              "\n",
              "      <script>\n",
              "        const buttonEl =\n",
              "          document.querySelector('#df-cda85622-0256-4f7b-ba8f-4c3b8d178f69 button.colab-df-convert');\n",
              "        buttonEl.style.display =\n",
              "          google.colab.kernel.accessAllowed ? 'block' : 'none';\n",
              "\n",
              "        async function convertToInteractive(key) {\n",
              "          const element = document.querySelector('#df-cda85622-0256-4f7b-ba8f-4c3b8d178f69');\n",
              "          const dataTable =\n",
              "            await google.colab.kernel.invokeFunction('convertToInteractive',\n",
              "                                                     [key], {});\n",
              "          if (!dataTable) return;\n",
              "\n",
              "          const docLinkHtml = 'Like what you see? Visit the ' +\n",
              "            '<a target=\"_blank\" href=https://colab.research.google.com/notebooks/data_table.ipynb>data table notebook</a>'\n",
              "            + ' to learn more about interactive tables.';\n",
              "          element.innerHTML = '';\n",
              "          dataTable['output_type'] = 'display_data';\n",
              "          await google.colab.output.renderOutput(dataTable, element);\n",
              "          const docLink = document.createElement('div');\n",
              "          docLink.innerHTML = docLinkHtml;\n",
              "          element.appendChild(docLink);\n",
              "        }\n",
              "      </script>\n",
              "    </div>\n",
              "  </div>\n",
              "  "
            ],
            "text/plain": [
              "     [run number]  density  [step]  burned-trees  initial-trees\n",
              "66             67       22      19            65          13917\n",
              "284           285       94     274         59106          59109\n",
              "236           237       78     314         48599          48758\n",
              "140           141       46      40           374          28841\n",
              "216           217       72     343         44542          45065"
            ]
          },
          "execution_count": 11,
          "metadata": {},
          "output_type": "execute_result"
        }
      ],
      "source": [
        "df.sample(5)"
      ]
    },
    {
      "cell_type": "markdown",
      "metadata": {
        "id": "Xtm3QkTh0atn"
      },
      "source": [
        "#### Example: Generate a new column "
      ]
    },
    {
      "cell_type": "code",
      "execution_count": null,
      "metadata": {
        "id": "dlK7-cAGzn3L"
      },
      "outputs": [],
      "source": [
        "df['percent-burned'] = (df['burned-trees'] / df['initial-trees']) * 100"
      ]
    },
    {
      "cell_type": "code",
      "execution_count": null,
      "metadata": {
        "colab": {
          "base_uri": "https://localhost:8080/",
          "height": 206
        },
        "id": "RxgSJfHVzxdA",
        "outputId": "b421ba09-133f-4f09-d01e-d8fb9b927e2a"
      },
      "outputs": [
        {
          "data": {
            "text/html": [
              "\n",
              "  <div id=\"df-ef431e11-4a5c-4985-b27a-16685d4d4fc9\">\n",
              "    <div class=\"colab-df-container\">\n",
              "      <div>\n",
              "<style scoped>\n",
              "    .dataframe tbody tr th:only-of-type {\n",
              "        vertical-align: middle;\n",
              "    }\n",
              "\n",
              "    .dataframe tbody tr th {\n",
              "        vertical-align: top;\n",
              "    }\n",
              "\n",
              "    .dataframe thead th {\n",
              "        text-align: right;\n",
              "    }\n",
              "</style>\n",
              "<table border=\"1\" class=\"dataframe\">\n",
              "  <thead>\n",
              "    <tr style=\"text-align: right;\">\n",
              "      <th></th>\n",
              "      <th>[run number]</th>\n",
              "      <th>density</th>\n",
              "      <th>[step]</th>\n",
              "      <th>burned-trees</th>\n",
              "      <th>initial-trees</th>\n",
              "      <th>percent-burned</th>\n",
              "    </tr>\n",
              "  </thead>\n",
              "  <tbody>\n",
              "    <tr>\n",
              "      <th>54</th>\n",
              "      <td>55</td>\n",
              "      <td>18</td>\n",
              "      <td>19</td>\n",
              "      <td>61</td>\n",
              "      <td>11288</td>\n",
              "      <td>0.54</td>\n",
              "    </tr>\n",
              "    <tr>\n",
              "      <th>11</th>\n",
              "      <td>12</td>\n",
              "      <td>3</td>\n",
              "      <td>13</td>\n",
              "      <td>10</td>\n",
              "      <td>1794</td>\n",
              "      <td>0.56</td>\n",
              "    </tr>\n",
              "    <tr>\n",
              "      <th>266</th>\n",
              "      <td>267</td>\n",
              "      <td>88</td>\n",
              "      <td>286</td>\n",
              "      <td>55409</td>\n",
              "      <td>55422</td>\n",
              "      <td>99.98</td>\n",
              "    </tr>\n",
              "    <tr>\n",
              "      <th>19</th>\n",
              "      <td>20</td>\n",
              "      <td>6</td>\n",
              "      <td>14</td>\n",
              "      <td>20</td>\n",
              "      <td>3751</td>\n",
              "      <td>0.53</td>\n",
              "    </tr>\n",
              "    <tr>\n",
              "      <th>60</th>\n",
              "      <td>61</td>\n",
              "      <td>20</td>\n",
              "      <td>15</td>\n",
              "      <td>74</td>\n",
              "      <td>12507</td>\n",
              "      <td>0.59</td>\n",
              "    </tr>\n",
              "  </tbody>\n",
              "</table>\n",
              "</div>\n",
              "      <button class=\"colab-df-convert\" onclick=\"convertToInteractive('df-ef431e11-4a5c-4985-b27a-16685d4d4fc9')\"\n",
              "              title=\"Convert this dataframe to an interactive table.\"\n",
              "              style=\"display:none;\">\n",
              "        \n",
              "  <svg xmlns=\"http://www.w3.org/2000/svg\" height=\"24px\"viewBox=\"0 0 24 24\"\n",
              "       width=\"24px\">\n",
              "    <path d=\"M0 0h24v24H0V0z\" fill=\"none\"/>\n",
              "    <path d=\"M18.56 5.44l.94 2.06.94-2.06 2.06-.94-2.06-.94-.94-2.06-.94 2.06-2.06.94zm-11 1L8.5 8.5l.94-2.06 2.06-.94-2.06-.94L8.5 2.5l-.94 2.06-2.06.94zm10 10l.94 2.06.94-2.06 2.06-.94-2.06-.94-.94-2.06-.94 2.06-2.06.94z\"/><path d=\"M17.41 7.96l-1.37-1.37c-.4-.4-.92-.59-1.43-.59-.52 0-1.04.2-1.43.59L10.3 9.45l-7.72 7.72c-.78.78-.78 2.05 0 2.83L4 21.41c.39.39.9.59 1.41.59.51 0 1.02-.2 1.41-.59l7.78-7.78 2.81-2.81c.8-.78.8-2.07 0-2.86zM5.41 20L4 18.59l7.72-7.72 1.47 1.35L5.41 20z\"/>\n",
              "  </svg>\n",
              "      </button>\n",
              "      \n",
              "  <style>\n",
              "    .colab-df-container {\n",
              "      display:flex;\n",
              "      flex-wrap:wrap;\n",
              "      gap: 12px;\n",
              "    }\n",
              "\n",
              "    .colab-df-convert {\n",
              "      background-color: #E8F0FE;\n",
              "      border: none;\n",
              "      border-radius: 50%;\n",
              "      cursor: pointer;\n",
              "      display: none;\n",
              "      fill: #1967D2;\n",
              "      height: 32px;\n",
              "      padding: 0 0 0 0;\n",
              "      width: 32px;\n",
              "    }\n",
              "\n",
              "    .colab-df-convert:hover {\n",
              "      background-color: #E2EBFA;\n",
              "      box-shadow: 0px 1px 2px rgba(60, 64, 67, 0.3), 0px 1px 3px 1px rgba(60, 64, 67, 0.15);\n",
              "      fill: #174EA6;\n",
              "    }\n",
              "\n",
              "    [theme=dark] .colab-df-convert {\n",
              "      background-color: #3B4455;\n",
              "      fill: #D2E3FC;\n",
              "    }\n",
              "\n",
              "    [theme=dark] .colab-df-convert:hover {\n",
              "      background-color: #434B5C;\n",
              "      box-shadow: 0px 1px 3px 1px rgba(0, 0, 0, 0.15);\n",
              "      filter: drop-shadow(0px 1px 2px rgba(0, 0, 0, 0.3));\n",
              "      fill: #FFFFFF;\n",
              "    }\n",
              "  </style>\n",
              "\n",
              "      <script>\n",
              "        const buttonEl =\n",
              "          document.querySelector('#df-ef431e11-4a5c-4985-b27a-16685d4d4fc9 button.colab-df-convert');\n",
              "        buttonEl.style.display =\n",
              "          google.colab.kernel.accessAllowed ? 'block' : 'none';\n",
              "\n",
              "        async function convertToInteractive(key) {\n",
              "          const element = document.querySelector('#df-ef431e11-4a5c-4985-b27a-16685d4d4fc9');\n",
              "          const dataTable =\n",
              "            await google.colab.kernel.invokeFunction('convertToInteractive',\n",
              "                                                     [key], {});\n",
              "          if (!dataTable) return;\n",
              "\n",
              "          const docLinkHtml = 'Like what you see? Visit the ' +\n",
              "            '<a target=\"_blank\" href=https://colab.research.google.com/notebooks/data_table.ipynb>data table notebook</a>'\n",
              "            + ' to learn more about interactive tables.';\n",
              "          element.innerHTML = '';\n",
              "          dataTable['output_type'] = 'display_data';\n",
              "          await google.colab.output.renderOutput(dataTable, element);\n",
              "          const docLink = document.createElement('div');\n",
              "          docLink.innerHTML = docLinkHtml;\n",
              "          element.appendChild(docLink);\n",
              "        }\n",
              "      </script>\n",
              "    </div>\n",
              "  </div>\n",
              "  "
            ],
            "text/plain": [
              "     [run number]  density  [step]  burned-trees  initial-trees  \\\n",
              "54             55       18      19            61          11288   \n",
              "11             12        3      13            10           1794   \n",
              "266           267       88     286         55409          55422   \n",
              "19             20        6      14            20           3751   \n",
              "60             61       20      15            74          12507   \n",
              "\n",
              "     percent-burned  \n",
              "54             0.54  \n",
              "11             0.56  \n",
              "266           99.98  \n",
              "19             0.53  \n",
              "60             0.59  "
            ]
          },
          "execution_count": 13,
          "metadata": {},
          "output_type": "execute_result"
        }
      ],
      "source": [
        "df.sample(5)"
      ]
    },
    {
      "cell_type": "markdown",
      "metadata": {
        "id": "IMMgF1TN1eIp"
      },
      "source": [
        "#### Example: Descriptive statistics"
      ]
    },
    {
      "cell_type": "code",
      "execution_count": null,
      "metadata": {
        "colab": {
          "base_uri": "https://localhost:8080/",
          "height": 300
        },
        "id": "AJiP8LlT1fk2",
        "outputId": "2d11e6f9-5620-4b2d-9e0d-849d9d1c2603"
      },
      "outputs": [
        {
          "data": {
            "text/html": [
              "\n",
              "  <div id=\"df-71d8ec20-6e4e-429b-9ee4-c3026c37d01b\">\n",
              "    <div class=\"colab-df-container\">\n",
              "      <div>\n",
              "<style scoped>\n",
              "    .dataframe tbody tr th:only-of-type {\n",
              "        vertical-align: middle;\n",
              "    }\n",
              "\n",
              "    .dataframe tbody tr th {\n",
              "        vertical-align: top;\n",
              "    }\n",
              "\n",
              "    .dataframe thead th {\n",
              "        text-align: right;\n",
              "    }\n",
              "</style>\n",
              "<table border=\"1\" class=\"dataframe\">\n",
              "  <thead>\n",
              "    <tr style=\"text-align: right;\">\n",
              "      <th></th>\n",
              "      <th>[run number]</th>\n",
              "      <th>density</th>\n",
              "      <th>[step]</th>\n",
              "      <th>burned-trees</th>\n",
              "      <th>initial-trees</th>\n",
              "      <th>percent-burned</th>\n",
              "    </tr>\n",
              "  </thead>\n",
              "  <tbody>\n",
              "    <tr>\n",
              "      <th>count</th>\n",
              "      <td>303.00</td>\n",
              "      <td>303.0</td>\n",
              "      <td>303.00</td>\n",
              "      <td>303.00</td>\n",
              "      <td>303.00</td>\n",
              "      <td>300.00</td>\n",
              "    </tr>\n",
              "    <tr>\n",
              "      <th>mean</th>\n",
              "      <td>152.00</td>\n",
              "      <td>50.0</td>\n",
              "      <td>163.37</td>\n",
              "      <td>20344.87</td>\n",
              "      <td>31381.90</td>\n",
              "      <td>41.19</td>\n",
              "    </tr>\n",
              "    <tr>\n",
              "      <th>std</th>\n",
              "      <td>87.61</td>\n",
              "      <td>29.2</td>\n",
              "      <td>172.21</td>\n",
              "      <td>24592.68</td>\n",
              "      <td>18329.99</td>\n",
              "      <td>47.23</td>\n",
              "    </tr>\n",
              "    <tr>\n",
              "      <th>min</th>\n",
              "      <td>1.00</td>\n",
              "      <td>0.0</td>\n",
              "      <td>12.00</td>\n",
              "      <td>0.00</td>\n",
              "      <td>0.00</td>\n",
              "      <td>0.16</td>\n",
              "    </tr>\n",
              "    <tr>\n",
              "      <th>25%</th>\n",
              "      <td>76.50</td>\n",
              "      <td>25.0</td>\n",
              "      <td>19.00</td>\n",
              "      <td>97.50</td>\n",
              "      <td>15646.00</td>\n",
              "      <td>0.66</td>\n",
              "    </tr>\n",
              "    <tr>\n",
              "      <th>50%</th>\n",
              "      <td>152.00</td>\n",
              "      <td>50.0</td>\n",
              "      <td>50.00</td>\n",
              "      <td>769.00</td>\n",
              "      <td>31490.00</td>\n",
              "      <td>2.49</td>\n",
              "    </tr>\n",
              "    <tr>\n",
              "      <th>75%</th>\n",
              "      <td>227.50</td>\n",
              "      <td>75.0</td>\n",
              "      <td>296.50</td>\n",
              "      <td>46769.50</td>\n",
              "      <td>47098.50</td>\n",
              "      <td>99.40</td>\n",
              "    </tr>\n",
              "    <tr>\n",
              "      <th>max</th>\n",
              "      <td>303.00</td>\n",
              "      <td>100.0</td>\n",
              "      <td>1000.00</td>\n",
              "      <td>62750.00</td>\n",
              "      <td>62750.00</td>\n",
              "      <td>100.00</td>\n",
              "    </tr>\n",
              "  </tbody>\n",
              "</table>\n",
              "</div>\n",
              "      <button class=\"colab-df-convert\" onclick=\"convertToInteractive('df-71d8ec20-6e4e-429b-9ee4-c3026c37d01b')\"\n",
              "              title=\"Convert this dataframe to an interactive table.\"\n",
              "              style=\"display:none;\">\n",
              "        \n",
              "  <svg xmlns=\"http://www.w3.org/2000/svg\" height=\"24px\"viewBox=\"0 0 24 24\"\n",
              "       width=\"24px\">\n",
              "    <path d=\"M0 0h24v24H0V0z\" fill=\"none\"/>\n",
              "    <path d=\"M18.56 5.44l.94 2.06.94-2.06 2.06-.94-2.06-.94-.94-2.06-.94 2.06-2.06.94zm-11 1L8.5 8.5l.94-2.06 2.06-.94-2.06-.94L8.5 2.5l-.94 2.06-2.06.94zm10 10l.94 2.06.94-2.06 2.06-.94-2.06-.94-.94-2.06-.94 2.06-2.06.94z\"/><path d=\"M17.41 7.96l-1.37-1.37c-.4-.4-.92-.59-1.43-.59-.52 0-1.04.2-1.43.59L10.3 9.45l-7.72 7.72c-.78.78-.78 2.05 0 2.83L4 21.41c.39.39.9.59 1.41.59.51 0 1.02-.2 1.41-.59l7.78-7.78 2.81-2.81c.8-.78.8-2.07 0-2.86zM5.41 20L4 18.59l7.72-7.72 1.47 1.35L5.41 20z\"/>\n",
              "  </svg>\n",
              "      </button>\n",
              "      \n",
              "  <style>\n",
              "    .colab-df-container {\n",
              "      display:flex;\n",
              "      flex-wrap:wrap;\n",
              "      gap: 12px;\n",
              "    }\n",
              "\n",
              "    .colab-df-convert {\n",
              "      background-color: #E8F0FE;\n",
              "      border: none;\n",
              "      border-radius: 50%;\n",
              "      cursor: pointer;\n",
              "      display: none;\n",
              "      fill: #1967D2;\n",
              "      height: 32px;\n",
              "      padding: 0 0 0 0;\n",
              "      width: 32px;\n",
              "    }\n",
              "\n",
              "    .colab-df-convert:hover {\n",
              "      background-color: #E2EBFA;\n",
              "      box-shadow: 0px 1px 2px rgba(60, 64, 67, 0.3), 0px 1px 3px 1px rgba(60, 64, 67, 0.15);\n",
              "      fill: #174EA6;\n",
              "    }\n",
              "\n",
              "    [theme=dark] .colab-df-convert {\n",
              "      background-color: #3B4455;\n",
              "      fill: #D2E3FC;\n",
              "    }\n",
              "\n",
              "    [theme=dark] .colab-df-convert:hover {\n",
              "      background-color: #434B5C;\n",
              "      box-shadow: 0px 1px 3px 1px rgba(0, 0, 0, 0.15);\n",
              "      filter: drop-shadow(0px 1px 2px rgba(0, 0, 0, 0.3));\n",
              "      fill: #FFFFFF;\n",
              "    }\n",
              "  </style>\n",
              "\n",
              "      <script>\n",
              "        const buttonEl =\n",
              "          document.querySelector('#df-71d8ec20-6e4e-429b-9ee4-c3026c37d01b button.colab-df-convert');\n",
              "        buttonEl.style.display =\n",
              "          google.colab.kernel.accessAllowed ? 'block' : 'none';\n",
              "\n",
              "        async function convertToInteractive(key) {\n",
              "          const element = document.querySelector('#df-71d8ec20-6e4e-429b-9ee4-c3026c37d01b');\n",
              "          const dataTable =\n",
              "            await google.colab.kernel.invokeFunction('convertToInteractive',\n",
              "                                                     [key], {});\n",
              "          if (!dataTable) return;\n",
              "\n",
              "          const docLinkHtml = 'Like what you see? Visit the ' +\n",
              "            '<a target=\"_blank\" href=https://colab.research.google.com/notebooks/data_table.ipynb>data table notebook</a>'\n",
              "            + ' to learn more about interactive tables.';\n",
              "          element.innerHTML = '';\n",
              "          dataTable['output_type'] = 'display_data';\n",
              "          await google.colab.output.renderOutput(dataTable, element);\n",
              "          const docLink = document.createElement('div');\n",
              "          docLink.innerHTML = docLinkHtml;\n",
              "          element.appendChild(docLink);\n",
              "        }\n",
              "      </script>\n",
              "    </div>\n",
              "  </div>\n",
              "  "
            ],
            "text/plain": [
              "       [run number]  density   [step]  burned-trees  initial-trees  \\\n",
              "count        303.00    303.0   303.00        303.00         303.00   \n",
              "mean         152.00     50.0   163.37      20344.87       31381.90   \n",
              "std           87.61     29.2   172.21      24592.68       18329.99   \n",
              "min            1.00      0.0    12.00          0.00           0.00   \n",
              "25%           76.50     25.0    19.00         97.50       15646.00   \n",
              "50%          152.00     50.0    50.00        769.00       31490.00   \n",
              "75%          227.50     75.0   296.50      46769.50       47098.50   \n",
              "max          303.00    100.0  1000.00      62750.00       62750.00   \n",
              "\n",
              "       percent-burned  \n",
              "count          300.00  \n",
              "mean            41.19  \n",
              "std             47.23  \n",
              "min              0.16  \n",
              "25%              0.66  \n",
              "50%              2.49  \n",
              "75%             99.40  \n",
              "max            100.00  "
            ]
          },
          "execution_count": 14,
          "metadata": {},
          "output_type": "execute_result"
        }
      ],
      "source": [
        "df.describe()"
      ]
    },
    {
      "cell_type": "markdown",
      "metadata": {
        "id": "WKaYbc0-1nEY"
      },
      "source": [
        "#### Example: Visualize the output"
      ]
    },
    {
      "cell_type": "code",
      "execution_count": null,
      "metadata": {
        "colab": {
          "base_uri": "https://localhost:8080/",
          "height": 466
        },
        "id": "18x5NO2-zxuv",
        "outputId": "77f9ff41-b3c0-44fc-94c0-99a197470d33"
      },
      "outputs": [
        {
          "data": {
            "text/plain": [
              "<Axes: xlabel='density', ylabel='percent-burned'>"
            ]
          },
          "execution_count": 20,
          "metadata": {},
          "output_type": "execute_result"
        },
        {
          "data": {
            "image/png": "[encoded data removed]",
            "text/plain": [
              "<Figure size 640x480 with 1 Axes>"
            ]
          },
          "metadata": {},
          "output_type": "display_data"
        }
      ],
      "source": [
        "df.plot.scatter(x='density', y='percent-burned', color='red')"
      ]
    },
    {
      "cell_type": "code",
      "execution_count": null,
      "metadata": {
        "colab": {
          "base_uri": "https://localhost:8080/",
          "height": 447
        },
        "id": "w2PqyZgL0KO4",
        "outputId": "08691ee6-4a32-433f-8052-4a537184efdd"
      },
      "outputs": [
        {
          "data": {
            "text/plain": [
              "<Axes: >"
            ]
          },
          "execution_count": 35,
          "metadata": {},
          "output_type": "execute_result"
        },
        {
          "data": {
            "image/png": "[encoded data removed]",
            "text/plain": [
              "<Figure size 640x480 with 1 Axes>"
            ]
          },
          "metadata": {},
          "output_type": "display_data"
        }
      ],
      "source": [
        "df['percent-burned'].hist(bins=50)"
      ]
    },
    {
      "cell_type": "code",
      "execution_count": null,
      "metadata": {
        "id": "C-UOmi8JS9l-"
      },
      "outputs": [],
      "source": []
    },
    {
      "cell_type": "code",
      "execution_count": null,
      "metadata": {
        "id": "Z5gzOoVNTitx"
      },
      "outputs": [],
      "source": []
    }
  ],
  "metadata": {
    "colab": {
      "authorship_tag": "ABX9TyN891YIzxMpcVEYxgTgVhuC",
      "include_colab_link": true,
      "provenance": []
    },
    "kernelspec": {
      "display_name": "Python 3",
      "name": "python3"
    },
    "language_info": {
      "codemirror_mode": {
        "name": "ipython",
        "version": 3
      },
      "file_extension": ".py",
      "mimetype": "text/x-python",
      "name": "python",
      "nbconvert_exporter": "python",
      "pygments_lexer": "ipython3",
      "version": "3.9.16"
    }
  },
  "nbformat": 4,
  "nbformat_minor": 0
}
